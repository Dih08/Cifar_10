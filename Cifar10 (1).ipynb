{
  "cells": [
    {
      "cell_type": "markdown",
      "metadata": {
        "id": "view-in-github"
      },
      "source": [
        "<a href=\"https://colab.research.google.com/github/Dih08/projetos-simples-e-aleatorios/blob/main/Cifar10.ipynb\" target=\"_parent\"><img src=\"https://colab.research.google.com/assets/colab-badge.svg\" alt=\"Open In Colab\"/></a>"
      ]
    },
    {
      "cell_type": "code",
      "execution_count": null,
      "metadata": {
        "id": "i-dQQlUVKTry"
      },
      "outputs": [],
      "source": [
        "import numpy as np\n",
        "from keras.models import Sequential\n",
        "from keras.layers import Dense, Dropout, Activation, Flatten\n",
        "from keras.layers import Conv2D, MaxPooling2D\n",
        "from keras.datasets import cifar10\n",
        "import keras\n",
        "import PIL\n",
        "import matplotlib.pyplot as plt\n",
        "import tensorflow as tf\n",
        "from tensorflow.keras import datasets, layers, models"
      ]
    },
    {
      "cell_type": "code",
      "execution_count": null,
      "metadata": {
        "id": "bsr6XXUNLFFx"
      },
      "outputs": [],
      "source": [
        "(x_train, y_train), (x_test, y_test) = keras.datasets.cifar10.load_data()\n",
        "assert x_train.shape == (50000, 32, 32, 3)\n",
        "assert x_test.shape == (10000, 32, 32, 3)\n",
        "assert y_train.shape == (50000, 1)\n",
        "assert y_test.shape == (10000, 1)"
      ]
    },
    {
      "cell_type": "code",
      "execution_count": null,
      "metadata": {
        "id": "aKpCT2UmRxiC"
      },
      "outputs": [],
      "source": [
        "#separando as categorias\n",
        "categorias = ['airplane', 'automobile', 'bird', 'cat', 'deer', 'dog', 'frog', 'horse', 'ship', 'truck']\n",
        "num_classes = len(np.unique(y_train))"
      ]
    },
    {
      "cell_type": "markdown",
      "metadata": {
        "id": "dDr4HmM7IoGi"
      },
      "source": [
        "classes\n",
        "\n",
        "0- airplane\n",
        "1- automobile\n",
        "2- bird\n",
        "3- cat\n",
        "4- deer\n",
        "5- dog\n",
        "6-frog\n",
        "7- horse\n",
        "8- ship\n",
        "9- truck"
      ]
    },
    {
      "cell_type": "code",
      "execution_count": null,
      "metadata": {
        "id": "TzfQwudLJT-C"
      },
      "outputs": [],
      "source": [
        "def classes_esquecidas(pred):\n",
        "  dic = {0:'Airplane',\n",
        "         1:'Automobile',\n",
        "         2:'Bird',\n",
        "         3:'Cat',\n",
        "         4:'Deer',\n",
        "         5:'Dog',\n",
        "         6:'Frog',\n",
        "         7:'Horse',\n",
        "         8:'Ship',\n",
        "         9:'Truck'\n",
        "         }\n",
        "\n",
        "  return dic[np.argmax(pred)]\n"
      ]
    },
    {
      "cell_type": "code",
      "execution_count": null,
      "metadata": {
        "id": "F-6s8NBeOloX"
      },
      "outputs": [],
      "source": [
        "#plotando as imagens\n",
        "plt.figure(figsize=(10,10))\n",
        "for i in range(num_classes):\n",
        "  axes = plt.subplot(3,5,i+1)\n",
        "  idx = np.where(y_train[:]==i)[0]\n",
        "  x = x_train[idx,::]\n",
        "  plt.imshow(x[0])\n",
        "  axes.set_title(categorias[i])\n",
        "  plt.axis('off')\n"
      ]
    },
    {
      "cell_type": "code",
      "execution_count": null,
      "metadata": {
        "id": "OVZgvV1DT8wn"
      },
      "outputs": [],
      "source": [
        "plt.hist(y_train, rwidth= 0.5)"
      ]
    },
    {
      "cell_type": "code",
      "execution_count": null,
      "metadata": {
        "id": "eabaF404VND2"
      },
      "outputs": [],
      "source": [
        "plt.hist(y_test, rwidth= 0.5)"
      ]
    },
    {
      "cell_type": "code",
      "execution_count": null,
      "metadata": {
        "id": "21ZNSsEHVhG_"
      },
      "outputs": [],
      "source": [
        "type(x_train)"
      ]
    },
    {
      "cell_type": "code",
      "execution_count": null,
      "metadata": {
        "id": "iJ7lJoW4VhCF"
      },
      "outputs": [],
      "source": [
        "print(len(x_train))\n",
        "print(len(x_test))"
      ]
    },
    {
      "cell_type": "code",
      "execution_count": null,
      "metadata": {
        "id": "Pn_0r3Ayq-Rb"
      },
      "outputs": [],
      "source": [
        "x_train = x_train.astype('float32')\n",
        "x_test = x_test.astype('float32')\n",
        "x_train = x_train / 255\n",
        "x_test = x_test / 255"
      ]
    },
    {
      "cell_type": "code",
      "execution_count": null,
      "metadata": {
        "id": "DzspnFEuVyWo"
      },
      "outputs": [],
      "source": [
        "#one hot encode\n",
        "\n",
        "y_train = keras.utils.to_categorical(y_train)\n",
        "y_test = keras.utils.to_categorical(y_test)\n"
      ]
    },
    {
      "cell_type": "code",
      "execution_count": null,
      "metadata": {
        "id": "nHWeTLBZWDt4"
      },
      "outputs": [],
      "source": [
        "i = np.random.randint(low = 0, high = 3000)\n",
        "y_test[i]\n",
        "plt.imshow(x_test[i])\n",
        "print(y_test[i])\n",
        "print(classes_esquecidas(y_test[i]))\n",
        "\n"
      ]
    },
    {
      "cell_type": "code",
      "execution_count": null,
      "metadata": {
        "id": "xltVO8_eYJEp"
      },
      "outputs": [],
      "source": [
        "model = keras.Sequential()\n",
        "model.add(layers.Conv2D(32,(3,3),activation='relu',kernel_initializer='he_uniform',padding='same',input_shape=(32,32,3)))\n",
        "model.add(layers.Conv2D(32,(3,3),activation='relu',kernel_initializer='he_uniform',padding='same'))\n",
        "model.add(layers.MaxPooling2D((2,2)))\n",
        "model.add(layers.Conv2D(64,(3,3),activation='relu',kernel_initializer='he_uniform',padding='same'))\n",
        "model.add(layers.Conv2D(64,(3,3),activation='relu',kernel_initializer='he_uniform',padding='same'))\n",
        "model.add(layers.MaxPooling2D((2,2)))\n",
        "model.add(layers.Conv2D(128,(3,3),activation='relu',kernel_initializer='he_uniform',padding='same'))\n",
        "model.add(layers.Conv2D(128,(3,3),activation='relu',kernel_initializer='he_uniform',padding='same'))\n",
        "model.add(layers.MaxPooling2D((2,2)))\n",
        "model.add(layers.Flatten())\n",
        "model.add(layers.Dense(128,activation='relu',kernel_initializer='he_uniform'))\n",
        "model.add(layers.Dense(10,activation='softmax'))"
      ]
    },
    {
      "cell_type": "code",
      "execution_count": null,
      "metadata": {
        "id": "1pssD06AZ3Pn"
      },
      "outputs": [],
      "source": [
        "model.summary()"
      ]
    },
    {
      "cell_type": "code",
      "execution_count": null,
      "metadata": {
        "id": "wf7gDWLvZ5u5"
      },
      "outputs": [],
      "source": [
        "#compilar o modelo\n",
        "opt = keras.optimizers.Adagrad()\n",
        "model.compile(optimizer=opt,loss='categorical_crossentropy',metrics=['accuracy'])"
      ]
    },
    {
      "cell_type": "code",
      "execution_count": null,
      "metadata": {
        "id": "KF11kHEla5Ub"
      },
      "outputs": [],
      "source": [
        "#callbacks\n",
        "import datetime\n",
        "!rm -rf ./logs/\n",
        "log_dir = \"logs/fit/\" + (datetime.datetime.now()+ datetime.timedelta(hours=-3)).strftime(\"%Y%m%d-%H%M%S\")\n",
        "tensorboard_callback = tf.keras.callbacks.TensorBoard(log_dir=log_dir)\n",
        "\n",
        "stopper = tf.keras.callbacks.EarlyStopping(monitor='val_loss',patience=10,verbose=2)"
      ]
    },
    {
      "cell_type": "code",
      "execution_count": null,
      "metadata": {
        "id": "zdEaD1ijbqUe"
      },
      "outputs": [],
      "source": [
        "#fitando o modelo\n",
        "seed = 21\n",
        "np.random.seed(seed)\n",
        "epochs = 10\n",
        "batch_size =32\n",
        "History = model.fit(x_train,\n",
        "          y_train,\n",
        "          epochs=epochs,\n",
        "          batch_size=batch_size,\n",
        "          validation_data=(x_test,y_test),\n",
        "          callbacks=[tensorboard_callback,stopper])\n"
      ]
    },
    {
      "cell_type": "code",
      "execution_count": null,
      "metadata": {
        "id": "Ary9m3qmZiNm"
      },
      "outputs": [],
      "source": [
        "model.save('Cifar10')"
      ]
    },
    {
      "cell_type": "code",
      "execution_count": null,
      "metadata": {
        "id": "5manWDCeZ0AS"
      },
      "outputs": [],
      "source": [
        "i = 1007\n",
        "pred = model.predict(tf.expand_dims(x_test[i],0))\n",
        "plt.imshow(x_test[i])\n",
        "print(classes_esquecidas(pred))\n",
        "\n"
      ]
    },
    {
      "cell_type": "markdown",
      "metadata": {
        "id": "PzMqr4GfPmFR"
      },
      "source": [
        "# Como nao foi tão boa a acuracia dos dados entao vamos usar a Transferlearning usando a VGG16"
      ]
    },
    {
      "cell_type": "code",
      "execution_count": null,
      "metadata": {
        "id": "mNNLmOBgSptv"
      },
      "outputs": [],
      "source": [
        "from keras.applications.vgg16 import VGG16\n",
        "\n",
        "\n",
        "\n",
        "vgg16_model = VGG16(weights= 'imagenet',include_top= False , input_shape=(32,32,3))\n",
        "\n",
        "\n"
      ]
    },
    {
      "cell_type": "code",
      "execution_count": null,
      "metadata": {
        "id": "eN6sfwQCYNBi"
      },
      "outputs": [],
      "source": [
        "model2 =keras.Sequential()\n",
        "for layer in vgg16_model.layers:\n",
        "  model2.add(layer)"
      ]
    },
    {
      "cell_type": "code",
      "execution_count": null,
      "metadata": {
        "id": "DgawrDfJYbpb"
      },
      "outputs": [],
      "source": [
        "model2.summary()"
      ]
    },
    {
      "cell_type": "code",
      "execution_count": null,
      "metadata": {
        "id": "zBUX067GYiAO"
      },
      "outputs": [],
      "source": [
        "#congelando os parametros que nao vou treinar\n",
        "\n",
        "for layer in model2.layers:\n",
        "  layer.trainable = False"
      ]
    },
    {
      "cell_type": "code",
      "execution_count": null,
      "metadata": {
        "id": "K_O3hM6TYw4u"
      },
      "outputs": [],
      "source": [
        "model2.summary()"
      ]
    },
    {
      "cell_type": "code",
      "execution_count": null,
      "metadata": {
        "id": "K8WD_ANjY9T2"
      },
      "outputs": [],
      "source": [
        "#adicionando um layer no final\n",
        "model2.add(layers.Flatten())\n",
        "model2.add(layers.Dense(300,activation='relu'))\n",
        "model2.add(layers.Dense(10,activation='softmax'))"
      ]
    },
    {
      "cell_type": "code",
      "execution_count": null,
      "metadata": {
        "id": "xg0_t8CjZM8Q"
      },
      "outputs": [],
      "source": [
        "model2.summary()"
      ]
    },
    {
      "cell_type": "code",
      "execution_count": null,
      "metadata": {
        "id": "Pi0ApFdEZbWi"
      },
      "outputs": [],
      "source": [
        "model2.output"
      ]
    },
    {
      "cell_type": "code",
      "execution_count": null,
      "metadata": {
        "id": "WBkpsigTZr79"
      },
      "outputs": [],
      "source": [
        "#callbacks : early stopping\n",
        "\n",
        "stopper = tf.keras.callbacks.EarlyStopping(monitor='val_loss',patience=20,verbose=2)"
      ]
    },
    {
      "cell_type": "code",
      "execution_count": null,
      "metadata": {
        "id": "x-O1g3zoZ98M"
      },
      "outputs": [],
      "source": [
        "#vamos complilar o modelo2\n",
        "opt = keras.optimizers.SGD()\n",
        "model2.compile(optimizer=opt,loss='categorical_crossentropy',metrics=['accuracy'])"
      ]
    },
    {
      "cell_type": "code",
      "execution_count": null,
      "metadata": {
        "id": "GTtxigFraSQj"
      },
      "outputs": [],
      "source": [
        "tf.config.list_physical_devices('GPU')"
      ]
    },
    {
      "cell_type": "code",
      "execution_count": null,
      "metadata": {
        "id": "ICmecO8raXkX"
      },
      "outputs": [],
      "source": [
        "#treinar modelo\n",
        "input_test = tf.keras.applications.vgg16.preprocess_input(x_test)\n",
        "input_train = tf.keras.applications.vgg16.preprocess_input(x_train)"
      ]
    },
    {
      "cell_type": "code",
      "execution_count": null,
      "metadata": {
        "colab": {
          "background_save": true,
          "base_uri": "https://localhost:8080/"
        },
        "id": "evRiU2e_amt8",
        "outputId": "3e7ea8c3-edee-4a44-8cad-ee86ce167895"
      },
      "outputs": [
        {
          "name": "stdout",
          "output_type": "stream",
          "text": [
            "Epoch 1/10\n",
            "1563/1563 [==============================] - 454s 290ms/step - loss: 2.3844 - accuracy: 0.0980 - val_loss: 2.3026 - val_accuracy: 0.1000\n",
            "Epoch 2/10\n",
            "1563/1563 [==============================] - 456s 292ms/step - loss: 2.3027 - accuracy: 0.0980 - val_loss: 2.3026 - val_accuracy: 0.1000\n",
            "Epoch 3/10\n",
            "1563/1563 [==============================] - 454s 290ms/step - loss: 2.3027 - accuracy: 0.0975 - val_loss: 2.3026 - val_accuracy: 0.0999\n",
            "Epoch 4/10\n",
            "1563/1563 [==============================] - 449s 287ms/step - loss: 2.3027 - accuracy: 0.0989 - val_loss: 2.3026 - val_accuracy: 0.1000\n",
            "Epoch 5/10\n",
            "1563/1563 [==============================] - 459s 294ms/step - loss: 2.3027 - accuracy: 0.0985 - val_loss: 2.3026 - val_accuracy: 0.1000\n",
            "Epoch 6/10\n",
            "1563/1563 [==============================] - 461s 295ms/step - loss: 2.3027 - accuracy: 0.0986 - val_loss: 2.3026 - val_accuracy: 0.1000\n",
            "Epoch 7/10\n",
            "1563/1563 [==============================] - 461s 295ms/step - loss: 2.3027 - accuracy: 0.0973 - val_loss: 2.3026 - val_accuracy: 0.1000\n",
            "Epoch 8/10\n",
            "1563/1563 [==============================] - 457s 292ms/step - loss: 2.3027 - accuracy: 0.0969 - val_loss: 2.3026 - val_accuracy: 0.1000\n",
            "Epoch 9/10\n",
            "1563/1563 [==============================] - 448s 287ms/step - loss: 2.3027 - accuracy: 0.0974 - val_loss: 2.3026 - val_accuracy: 0.1000\n",
            "Epoch 10/10\n",
            "1563/1563 [==============================] - 457s 293ms/step - loss: 2.3027 - accuracy: 0.0982 - val_loss: 2.3026 - val_accuracy: 0.1000\n"
          ]
        },
        {
          "data": {
            "text/plain": [
              "<keras.src.callbacks.History at 0x7a55983c5570>"
            ]
          },
          "execution_count": 41,
          "metadata": {},
          "output_type": "execute_result"
        }
      ],
      "source": [
        "#agoras vamos fitar\n",
        "model2.fit(input_train,\n",
        "          y_train,\n",
        "          epochs=10,\n",
        "          batch_size=32,\n",
        "          validation_data=(input_test,y_test),\n",
        "          callbacks=[stopper])"
      ]
    },
    {
      "cell_type": "code",
      "execution_count": 1,
      "metadata": {
        "id": "yqIZD6j2tlR5",
        "outputId": "8fc9d592-6b5f-49fb-a71b-c24db285a178",
        "colab": {
          "base_uri": "https://localhost:8080/",
          "height": 211
        }
      },
      "outputs": [
        {
          "output_type": "error",
          "ename": "NameError",
          "evalue": "name 'random' is not defined",
          "traceback": [
            "\u001b[0;31m---------------------------------------------------------------------------\u001b[0m",
            "\u001b[0;31mNameError\u001b[0m                                 Traceback (most recent call last)",
            "\u001b[0;32m/tmp/ipython-input-1-66342811.py\u001b[0m in \u001b[0;36m<cell line: 0>\u001b[0;34m()\u001b[0m\n\u001b[1;32m      1\u001b[0m \u001b[0;31m#agora testando uma imagem aleatoria\u001b[0m\u001b[0;34m\u001b[0m\u001b[0;34m\u001b[0m\u001b[0m\n\u001b[1;32m      2\u001b[0m \u001b[0;34m\u001b[0m\u001b[0m\n\u001b[0;32m----> 3\u001b[0;31m \u001b[0mi\u001b[0m \u001b[0;34m=\u001b[0m \u001b[0mrandom\u001b[0m\u001b[0;34m.\u001b[0m\u001b[0mrandint\u001b[0m\u001b[0;34m(\u001b[0m\u001b[0;36m0\u001b[0m\u001b[0;34m,\u001b[0m\u001b[0;36m10000\u001b[0m\u001b[0;34m)\u001b[0m\u001b[0;34m\u001b[0m\u001b[0;34m\u001b[0m\u001b[0m\n\u001b[0m\u001b[1;32m      4\u001b[0m \u001b[0mpred\u001b[0m \u001b[0;34m=\u001b[0m \u001b[0mmodel2\u001b[0m\u001b[0;34m.\u001b[0m\u001b[0mpredict\u001b[0m\u001b[0;34m(\u001b[0m\u001b[0mtf\u001b[0m\u001b[0;34m.\u001b[0m\u001b[0mexpand_dims\u001b[0m\u001b[0;34m(\u001b[0m\u001b[0mx_test\u001b[0m\u001b[0;34m[\u001b[0m\u001b[0mi\u001b[0m\u001b[0;34m]\u001b[0m\u001b[0;34m,\u001b[0m\u001b[0;36m0\u001b[0m\u001b[0;34m)\u001b[0m\u001b[0;34m)\u001b[0m\u001b[0;34m\u001b[0m\u001b[0;34m\u001b[0m\u001b[0m\n\u001b[1;32m      5\u001b[0m \u001b[0mplt\u001b[0m\u001b[0;34m.\u001b[0m\u001b[0mimshow\u001b[0m\u001b[0;34m(\u001b[0m\u001b[0mx_test\u001b[0m\u001b[0;34m[\u001b[0m\u001b[0mi\u001b[0m\u001b[0;34m]\u001b[0m\u001b[0;34m)\u001b[0m\u001b[0;34m\u001b[0m\u001b[0;34m\u001b[0m\u001b[0m\n",
            "\u001b[0;31mNameError\u001b[0m: name 'random' is not defined"
          ]
        }
      ],
      "source": [
        "#agora testando uma imagem aleatoria\n",
        "\n",
        "i = random.randint(0,10000)\n",
        "pred = model2.predict(tf.expand_dims(x_test[i],0))\n",
        "plt.imshow(x_test[i])\n",
        "print(classes_esquecidas(pred))"
      ]
    }
  ],
  "metadata": {
    "colab": {
      "provenance": []
    },
    "kernelspec": {
      "display_name": "Python 3",
      "name": "python3"
    },
    "language_info": {
      "name": "python"
    }
  },
  "nbformat": 4,
  "nbformat_minor": 0
}